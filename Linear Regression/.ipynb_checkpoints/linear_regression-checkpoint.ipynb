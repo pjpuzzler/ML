{
 "cells": [
  {
   "cell_type": "code",
   "execution_count": null,
   "metadata": {},
   "outputs": [],
   "source": [
    "import numpy as np\n",
    "import pandas as pd\n",
    "import matplotlib.pyplot as plt\n",
    "from sklearn.datasets import make_regression\n",
    "import sklearn.linear_model"
   ]
  },
  {
   "cell_type": "code",
   "execution_count": null,
   "metadata": {},
   "outputs": [],
   "source": [
    "def normalize(X):\n",
    "    X_normalized = X / np.linalg.norm(X, axis=1, keepdims=True)\n",
    "    return X_normalized"
   ]
  },
  {
   "cell_type": "code",
   "execution_count": null,
   "metadata": {},
   "outputs": [],
   "source": [
    "X = normalize(X)"
   ]
  },
  {
   "cell_type": "code",
   "execution_count": null,
   "metadata": {},
   "outputs": [],
   "source": [
    "def train_test_split(X, y, test_size=0.25, shuffle=True):\n",
    "    X, y = np.asarray(X), np.asarray(y)\n",
    "    n = len(X)\n",
    "    if shuffle:\n",
    "        perm = np.random.permutation(n)\n",
    "        X, y = X[perm], y[perm]\n",
    "    test_rows = round(test_size * n)\n",
    "    X_train, X_test, y_train, y_test = X[test_rows:], X[:test_rows], y[test_rows:], y[:test_rows]\n",
    "    return X_train, X_test, y_train, y_test"
   ]
  },
  {
   "cell_type": "code",
   "execution_count": null,
   "metadata": {},
   "outputs": [],
   "source": [
    "X_train, X_test, y_train, y_test = train_test_split(X, y)"
   ]
  },
  {
   "cell_type": "code",
   "execution_count": null,
   "metadata": {},
   "outputs": [],
   "source": [
    "class LinearRegression:\n",
    "    def __init__(self, l=0.001, lr=0.1, tol=0.0001, verbose=True):\n",
    "        self._l = l\n",
    "        self._lr = lr\n",
    "        self._tol = tol\n",
    "        self._verbose = verbose\n",
    "    \n",
    "    def __preprocess(self, X, y):\n",
    "        X, y = np.asarray(X), np.asarray(y)\n",
    "        if X.ndim == 1:\n",
    "            X = X.reshape(X.size, 1)\n",
    "        X = np.hstack((np.ones((len(X), 1)), X))\n",
    "        return X, y\n",
    "    \n",
    "    def __predict(self):\n",
    "        pred = np.dot(self._X, self._w)\n",
    "        return pred\n",
    "    \n",
    "    def __score(self):\n",
    "        preds = self.__predict()\n",
    "        SS_r = ((self._y - preds) ** 2).sum()\n",
    "        SS_t = ((self._y - self._y.mean()) ** 2).sum()\n",
    "        r_squared = 1 - SS_r / SS_t\n",
    "        return r_squared\n",
    "    \n",
    "    def __cost(self):\n",
    "        preds = self.__predict()\n",
    "        sq_err = (preds - self._y) ** 2\n",
    "        sq_reg = self._w[1:] ** 2\n",
    "        cost = 1 / (2 * self._n) * (sq_err.sum() + self._l * sq_reg.sum())\n",
    "        return cost\n",
    "    \n",
    "    def __iterate(self):\n",
    "        preds = self.__predict()\n",
    "        err = self._y - preds\n",
    "        gradient = np.dot(-self._X.T, err) / self._n * self._lr\n",
    "        self._w -= gradient\n",
    "    \n",
    "    def get_ls_y(self, ls_x):\n",
    "        ls_y = [self._w[1] * x + self._w[0] for x in ls_x]\n",
    "        return ls_y\n",
    "    \n",
    "    def fit(self, X, y):\n",
    "        X, y = self.__preprocess(X, y)\n",
    "        self._X = X\n",
    "        self._y = y\n",
    "        self._n = len(self._X)\n",
    "        self._w = np.zeros((self._X.shape[1], self._y.shape[1]) if self._y.ndim == 2 else self._X.shape[1])\n",
    "        \n",
    "        i = 0\n",
    "        prev_cost = None\n",
    "        cost = None\n",
    "        while (cost == None or cost > 0) and (prev_cost == None or prev_cost - cost > self._tol):\n",
    "            self.__iterate()\n",
    "            prev_cost = cost\n",
    "            cost = self.__cost()\n",
    "            if self._verbose:\n",
    "                score = self.__score()\n",
    "                print(f'Iteration: {i}     Cost: {cost}     Score: {score}')\n",
    "            i += 1\n",
    "    \n",
    "    def predict(self, X, pad=True):\n",
    "        X = np.asarray(X)\n",
    "        if pad:\n",
    "            X = np.hstack((np.ones((len(X), 1)), X))\n",
    "        pred = np.dot(X, self._w)\n",
    "        return pred\n",
    "    \n",
    "    def score(self, X, y):\n",
    "        X, y = self.__preprocess(X, y)\n",
    "        n = len(X)\n",
    "        preds = self.predict(X, False)\n",
    "        SS_r = ((y - preds) ** 2).sum()\n",
    "        SS_t = ((y - y.mean()) ** 2).sum()\n",
    "        r_squared = 1 - SS_r / SS_t\n",
    "        return r_squared"
   ]
  },
  {
   "cell_type": "code",
   "execution_count": null,
   "metadata": {},
   "outputs": [],
   "source": [
    "clf = LinearRegression(lr=0.0001)"
   ]
  },
  {
   "cell_type": "code",
   "execution_count": null,
   "metadata": {
    "scrolled": true
   },
   "outputs": [],
   "source": [
    "clf.fit(X_train, y_train)"
   ]
  },
  {
   "cell_type": "code",
   "execution_count": null,
   "metadata": {
    "scrolled": true
   },
   "outputs": [],
   "source": [
    "clf.score(X_test, y_test)"
   ]
  },
  {
   "cell_type": "code",
   "execution_count": null,
   "metadata": {},
   "outputs": [],
   "source": [
    "clf.predict(X_test[5].reshape(1, -1))"
   ]
  },
  {
   "cell_type": "code",
   "execution_count": null,
   "metadata": {},
   "outputs": [],
   "source": [
    "y_test[5]"
   ]
  },
  {
   "cell_type": "code",
   "execution_count": null,
   "metadata": {},
   "outputs": [],
   "source": []
  }
 ],
 "metadata": {
  "kernelspec": {
   "display_name": "Python 3",
   "language": "python",
   "name": "python3"
  },
  "language_info": {
   "codemirror_mode": {
    "name": "ipython",
    "version": 3
   },
   "file_extension": ".py",
   "mimetype": "text/x-python",
   "name": "python",
   "nbconvert_exporter": "python",
   "pygments_lexer": "ipython3",
   "version": "3.8.8"
  }
 },
 "nbformat": 4,
 "nbformat_minor": 4
}
