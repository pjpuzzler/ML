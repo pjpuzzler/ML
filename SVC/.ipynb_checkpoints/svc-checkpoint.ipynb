{
 "cells": [
  {
   "cell_type": "code",
   "execution_count": 1,
   "id": "twenty-genesis",
   "metadata": {},
   "outputs": [],
   "source": [
    "import numpy as np"
   ]
  },
  {
   "cell_type": "code",
   "execution_count": 2,
   "id": "tough-hungary",
   "metadata": {},
   "outputs": [],
   "source": [
    "def normalize(X):\n",
    "    X = np.asarray(X)\n",
    "    X_normalized = X / np.linalg.norm(X, axis=1, keepdims=True)\n",
    "    return X_normalized\n",
    "\n",
    "def train_test_split(X, y, test_size=0.25, shuffle=True):\n",
    "    X, y = np.asarray(X), np.asarray(y)\n",
    "    n = len(X)\n",
    "    if shuffle:\n",
    "        perm = np.random.permutation(n)\n",
    "        X, y = X[perm], y[perm]\n",
    "    test_rows = round(test_size * n)\n",
    "    X_train, X_test, y_train, y_test = X[test_rows:], X[:test_rows], y[test_rows:], y[:test_rows]\n",
    "    return X_train, X_test, y_train, y_test"
   ]
  },
  {
   "cell_type": "code",
   "execution_count": null,
   "id": "marine-dutch",
   "metadata": {},
   "outputs": [],
   "source": [
    "class SVC:\n",
    "    def __init__(self, C=0.01):\n",
    "        self._C = C\n",
    "    \n",
    "    def __predict(self):\n",
    "        pred = np.dot(self._X, self._Theta)\n",
    "        return pred\n",
    "    \n",
    "    def __cost(self):\n",
    "        preds = self.__predict()\n",
    "        reg = (self._Theta[1:] ** 2).sum() / 2\n",
    "        cost = self._C * (y * np.maximum(0, 1 - preds) + (1 - y) * np.maximum(0, 1 + preds))[1:].sum() + reg\n",
    "        return cost"
   ]
  },
  {
   "cell_type": "code",
   "execution_count": 9,
   "id": "superior-strip",
   "metadata": {},
   "outputs": [],
   "source": [
    "y = np.array([0, 1, 1, 0])"
   ]
  },
  {
   "cell_type": "code",
   "execution_count": 11,
   "id": "demanding-strand",
   "metadata": {},
   "outputs": [
    {
     "data": {
      "text/plain": [
       "array([0, 1, 0, 0])"
      ]
     },
     "execution_count": 11,
     "metadata": {},
     "output_type": "execute_result"
    }
   ],
   "source": [
    "y * np.maximum(0, np.array([-1, 1, 0, 1]))"
   ]
  },
  {
   "cell_type": "code",
   "execution_count": null,
   "id": "confidential-motivation",
   "metadata": {},
   "outputs": [],
   "source": []
  }
 ],
 "metadata": {
  "kernelspec": {
   "display_name": "Python 3",
   "language": "python",
   "name": "python3"
  },
  "language_info": {
   "codemirror_mode": {
    "name": "ipython",
    "version": 3
   },
   "file_extension": ".py",
   "mimetype": "text/x-python",
   "name": "python",
   "nbconvert_exporter": "python",
   "pygments_lexer": "ipython3",
   "version": "3.9.2"
  }
 },
 "nbformat": 4,
 "nbformat_minor": 5
}
