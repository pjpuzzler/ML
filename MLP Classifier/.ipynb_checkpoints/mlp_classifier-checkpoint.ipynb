{
 "cells": [
  {
   "cell_type": "code",
   "execution_count": 1,
   "metadata": {},
   "outputs": [],
   "source": [
    "import numpy as np\n",
    "import pandas as pd\n",
    "from os import listdir\n",
    "from PIL import Image\n",
    "from matplotlib.pyplot import imshow\n",
    "from sklearn.datasets import make_classification\n",
    "from sklearn.preprocessing import normalize\n",
    "from sklearn.model_selection import train_test_split\n",
    "from sklearn.neural_network import MLPClassifier"
   ]
  },
  {
   "cell_type": "code",
   "execution_count": null,
   "metadata": {},
   "outputs": [],
   "source": [
    "X, y = make_classification(n_samples=1000)"
   ]
  },
  {
   "cell_type": "code",
   "execution_count": 48,
   "metadata": {},
   "outputs": [],
   "source": [
    "class NN:\n",
    "    def __init__(self, hl=(100,), a=0.0001, tol=0.0001, lr=0.001, max_iter=200, verbose=False):\n",
    "        self.hl = hl\n",
    "        self.a = a\n",
    "        self.tol = tol\n",
    "        self.lr = lr\n",
    "        self.max_iter = max_iter\n",
    "        self.verbose = verbose\n",
    "    \n",
    "    def relu(self, x):\n",
    "        return np.maximum(0, x)\n",
    "    \n",
    "    def d_relu(self, x):\n",
    "        x[x <= 0] = 0\n",
    "        x[x > 0] = 1\n",
    "        return x\n",
    "    \n",
    "    def sigmoid(self, x):\n",
    "        x = np.clip(x, -700, 700)\n",
    "        return 1 / (1 + np.exp(-x))\n",
    "    \n",
    "    def d_sigmoid(self, x):\n",
    "        return self.sigmoid(x) * (1 - self.sigmoid(x))\n",
    "    \n",
    "    def loss(self):\n",
    "        preds = self.predict(self.X)\n",
    "        return 1 / (2 * self.n) * ((preds - self.y) ** 2).sum() + self.a / (2 * self.n) * sum((W ** 2).sum() for W in self.W)\n",
    "    \n",
    "    def predict(self, X):\n",
    "        self.Z = []\n",
    "        self.A = []\n",
    "        A = X.copy()\n",
    "        for i in range(len(self.W)):\n",
    "            Z = A.dot(self.W[i]) + self.b[i]\n",
    "            self.Z.append(Z)\n",
    "            if i < len(self.W) - 1:\n",
    "                A = self.relu(Z)\n",
    "                self.A.append(A)\n",
    "            else:\n",
    "                preds = self.sigmoid(Z)\n",
    "        return preds\n",
    "    \n",
    "    def iterate(self):\n",
    "        loss_history = []\n",
    "        loss = None\n",
    "        i = 0\n",
    "        while loss == None or len(loss_history) < 10 or not all(prev_loss <= loss + self.tol for prev_loss in loss_history[-10:]):\n",
    "            if loss != None:\n",
    "                loss_history.append(loss)\n",
    "            preds = self.predict(self.X)\n",
    "            d_preds = preds - self.y\n",
    "            d_sig = self.d_sigmoid(preds)\n",
    "            d_Z = d_preds * d_sig\n",
    "            for j in range(-1, -len(self.W) - 1, -1):\n",
    "                if j < -1:\n",
    "                    d_Z = d_A * self.d_relu(self.Z[j])\n",
    "                if j > -len(self.W):\n",
    "                    d_A = d_Z.dot(self.W[j].T)\n",
    "                    d_W = self.A[j].T.dot(d_Z)\n",
    "                else:\n",
    "                    d_W = self.X.T.dot(d_Z)\n",
    "                d_b = d_Z.sum(0)\n",
    "                self.W[j] -= self.lr * d_W + self.a * self.W[j] / self.n\n",
    "                self.b[j] -= self.lr * d_b\n",
    "            loss = self.loss()\n",
    "            accuracy = self.score(self.X, self.y)\n",
    "            if self.verbose:\n",
    "                print(f'iteration {i + 1}     loss: {loss}     accuracy: {accuracy}')\n",
    "            i += 1\n",
    "            if i == self.max_iter:\n",
    "                return\n",
    "    \n",
    "    def fit(self, X, y):\n",
    "        self.X = X\n",
    "        self.y = y.reshape(-1, 1) if y.ndim == 1 else y\n",
    "        self.n = X.shape[0]\n",
    "        self.classes = self.y.shape[1]\n",
    "        self.layers = (X.shape[1], *self.hl, self.classes)\n",
    "        self.W = []\n",
    "        self.b = []\n",
    "        for i in range(1, len(self.layers)):\n",
    "            self.W.append(np.random.randn(self.layers[i - 1], self.layers[i]))\n",
    "            self.b.append(np.random.randn(self.layers[i]))\n",
    "        self.iterate()\n",
    "    \n",
    "    def score(self, X, y):\n",
    "        y = y.reshape(-1, 1) if y.ndim == 1 else y\n",
    "        preds = self.predict(X)\n",
    "        preds[preds > 0.5] = 1\n",
    "        preds[preds <= 0.5] = 0\n",
    "        return round((preds == y).sum() / y.size, 4)"
   ]
  },
  {
   "cell_type": "code",
   "execution_count": 20,
   "metadata": {},
   "outputs": [],
   "source": [
    "d = {'sunflower': 0,\n",
    "     'tulip': 1,\n",
    "     'daisy': 2,\n",
    "     'dandelion': 3,\n",
    "     'flowers': 4,\n",
    "     'rose': 5}"
   ]
  },
  {
   "cell_type": "code",
   "execution_count": 55,
   "metadata": {},
   "outputs": [],
   "source": [
    "X = []\n",
    "y = []\n",
    "for cls in listdir('Data'):\n",
    "    for f in listdir(f'Data/{cls}'):\n",
    "        if f[-3:] not in ['png', 'jpg']:\n",
    "            continue\n",
    "        img = Image.open(f'Data/{cls}/{f}')\n",
    "        X.append(np.asarray(img.resize((50, 50))).flatten())\n",
    "        output = np.zeros(6, dtype=int)\n",
    "        output[d[cls]] = 1\n",
    "        y.append(output)"
   ]
  },
  {
   "cell_type": "code",
   "execution_count": 56,
   "metadata": {},
   "outputs": [],
   "source": [
    "X = normalize(np.asarray(X))\n",
    "y = np.asarray(y)"
   ]
  },
  {
   "cell_type": "code",
   "execution_count": 57,
   "metadata": {},
   "outputs": [],
   "source": [
    "X_train, X_test, y_train, y_test = train_test_split(X, y)"
   ]
  },
  {
   "cell_type": "code",
   "execution_count": 58,
   "metadata": {},
   "outputs": [],
   "source": [
    "clf = NN((5000,), verbose=True)"
   ]
  },
  {
   "cell_type": "code",
   "execution_count": 59,
   "metadata": {
    "scrolled": true
   },
   "outputs": [
    {
     "name": "stdout",
     "output_type": "stream",
     "text": [
      "iteration 1     loss: 1.9887864984900854     accuracy: 0.53\n",
      "iteration 2     loss: 1.0788722210652657     accuracy: 0.8333\n",
      "iteration 3     loss: 1.2882897401418605     accuracy: 0.7622\n",
      "iteration 4     loss: 1.3992729225507867     accuracy: 0.7265\n",
      "iteration 5     loss: 1.1650456043535808     accuracy: 0.8014\n",
      "iteration 6     loss: 1.2108626172517511     accuracy: 0.7762\n",
      "iteration 7     loss: 1.0821962216950176     accuracy: 0.8195\n",
      "iteration 8     loss: 1.2951667150558457     accuracy: 0.7278\n",
      "iteration 9     loss: 1.1278448383365776     accuracy: 0.7931\n",
      "iteration 10     loss: 1.1743459933500193     accuracy: 0.7618\n",
      "iteration 11     loss: 1.090001719973102     accuracy: 0.7962\n",
      "iteration 12     loss: 1.145312588386732     accuracy: 0.7698\n",
      "iteration 13     loss: 1.0687626194031723     accuracy: 0.8032\n",
      "iteration 14     loss: 1.116306638616953     accuracy: 0.7794\n",
      "iteration 15     loss: 1.0598890886033185     accuracy: 0.8054\n",
      "iteration 16     loss: 1.0883983300189266     accuracy: 0.79\n",
      "iteration 17     loss: 1.066923988702043     accuracy: 0.8005\n",
      "iteration 18     loss: 1.0704724053879429     accuracy: 0.8003\n",
      "iteration 19     loss: 1.0913345070916896     accuracy: 0.7886\n",
      "iteration 20     loss: 1.0718386562291247     accuracy: 0.8012\n",
      "iteration 21     loss: 1.062242972506502     accuracy: 0.7995\n",
      "iteration 22     loss: 1.0412797755260113     accuracy: 0.8111\n",
      "iteration 23     loss: 1.0449637219068642     accuracy: 0.806\n",
      "iteration 24     loss: 1.021989859017934     accuracy: 0.8186\n",
      "iteration 25     loss: 1.0383504741624885     accuracy: 0.8077\n",
      "iteration 26     loss: 1.0105383294964065     accuracy: 0.8225\n",
      "iteration 27     loss: 1.0359714906786301     accuracy: 0.807\n",
      "iteration 28     loss: 1.0057343944849393     accuracy: 0.8256\n"
     ]
    },
    {
     "ename": "KeyboardInterrupt",
     "evalue": "",
     "output_type": "error",
     "traceback": [
      "\u001b[1;31m---------------------------------------------------------------------------\u001b[0m",
      "\u001b[1;31mKeyboardInterrupt\u001b[0m                         Traceback (most recent call last)",
      "\u001b[1;32m<ipython-input-59-4f66baab8f93>\u001b[0m in \u001b[0;36m<module>\u001b[1;34m\u001b[0m\n\u001b[1;32m----> 1\u001b[1;33m \u001b[0mclf\u001b[0m\u001b[1;33m.\u001b[0m\u001b[0mfit\u001b[0m\u001b[1;33m(\u001b[0m\u001b[0mX_train\u001b[0m\u001b[1;33m,\u001b[0m \u001b[0my_train\u001b[0m\u001b[1;33m)\u001b[0m\u001b[1;33m\u001b[0m\u001b[1;33m\u001b[0m\u001b[0m\n\u001b[0m",
      "\u001b[1;32m<ipython-input-48-2c6f0fe22d62>\u001b[0m in \u001b[0;36mfit\u001b[1;34m(self, X, y)\u001b[0m\n\u001b[0;32m     82\u001b[0m             \u001b[0mself\u001b[0m\u001b[1;33m.\u001b[0m\u001b[0mW\u001b[0m\u001b[1;33m.\u001b[0m\u001b[0mappend\u001b[0m\u001b[1;33m(\u001b[0m\u001b[0mnp\u001b[0m\u001b[1;33m.\u001b[0m\u001b[0mrandom\u001b[0m\u001b[1;33m.\u001b[0m\u001b[0mrandn\u001b[0m\u001b[1;33m(\u001b[0m\u001b[0mself\u001b[0m\u001b[1;33m.\u001b[0m\u001b[0mlayers\u001b[0m\u001b[1;33m[\u001b[0m\u001b[0mi\u001b[0m \u001b[1;33m-\u001b[0m \u001b[1;36m1\u001b[0m\u001b[1;33m]\u001b[0m\u001b[1;33m,\u001b[0m \u001b[0mself\u001b[0m\u001b[1;33m.\u001b[0m\u001b[0mlayers\u001b[0m\u001b[1;33m[\u001b[0m\u001b[0mi\u001b[0m\u001b[1;33m]\u001b[0m\u001b[1;33m)\u001b[0m\u001b[1;33m)\u001b[0m\u001b[1;33m\u001b[0m\u001b[1;33m\u001b[0m\u001b[0m\n\u001b[0;32m     83\u001b[0m             \u001b[0mself\u001b[0m\u001b[1;33m.\u001b[0m\u001b[0mb\u001b[0m\u001b[1;33m.\u001b[0m\u001b[0mappend\u001b[0m\u001b[1;33m(\u001b[0m\u001b[0mnp\u001b[0m\u001b[1;33m.\u001b[0m\u001b[0mrandom\u001b[0m\u001b[1;33m.\u001b[0m\u001b[0mrandn\u001b[0m\u001b[1;33m(\u001b[0m\u001b[0mself\u001b[0m\u001b[1;33m.\u001b[0m\u001b[0mlayers\u001b[0m\u001b[1;33m[\u001b[0m\u001b[0mi\u001b[0m\u001b[1;33m]\u001b[0m\u001b[1;33m)\u001b[0m\u001b[1;33m)\u001b[0m\u001b[1;33m\u001b[0m\u001b[1;33m\u001b[0m\u001b[0m\n\u001b[1;32m---> 84\u001b[1;33m         \u001b[0mself\u001b[0m\u001b[1;33m.\u001b[0m\u001b[0miterate\u001b[0m\u001b[1;33m(\u001b[0m\u001b[1;33m)\u001b[0m\u001b[1;33m\u001b[0m\u001b[1;33m\u001b[0m\u001b[0m\n\u001b[0m\u001b[0;32m     85\u001b[0m \u001b[1;33m\u001b[0m\u001b[0m\n\u001b[0;32m     86\u001b[0m     \u001b[1;32mdef\u001b[0m \u001b[0mscore\u001b[0m\u001b[1;33m(\u001b[0m\u001b[0mself\u001b[0m\u001b[1;33m,\u001b[0m \u001b[0mX\u001b[0m\u001b[1;33m,\u001b[0m \u001b[0my\u001b[0m\u001b[1;33m)\u001b[0m\u001b[1;33m:\u001b[0m\u001b[1;33m\u001b[0m\u001b[1;33m\u001b[0m\u001b[0m\n",
      "\u001b[1;32m<ipython-input-48-2c6f0fe22d62>\u001b[0m in \u001b[0;36miterate\u001b[1;34m(self)\u001b[0m\n\u001b[0;32m     48\u001b[0m             \u001b[1;32mif\u001b[0m \u001b[0mloss\u001b[0m \u001b[1;33m!=\u001b[0m \u001b[1;32mNone\u001b[0m\u001b[1;33m:\u001b[0m\u001b[1;33m\u001b[0m\u001b[1;33m\u001b[0m\u001b[0m\n\u001b[0;32m     49\u001b[0m                 \u001b[0mloss_history\u001b[0m\u001b[1;33m.\u001b[0m\u001b[0mappend\u001b[0m\u001b[1;33m(\u001b[0m\u001b[0mloss\u001b[0m\u001b[1;33m)\u001b[0m\u001b[1;33m\u001b[0m\u001b[1;33m\u001b[0m\u001b[0m\n\u001b[1;32m---> 50\u001b[1;33m             \u001b[0mpreds\u001b[0m \u001b[1;33m=\u001b[0m \u001b[0mself\u001b[0m\u001b[1;33m.\u001b[0m\u001b[0mpredict\u001b[0m\u001b[1;33m(\u001b[0m\u001b[0mself\u001b[0m\u001b[1;33m.\u001b[0m\u001b[0mX\u001b[0m\u001b[1;33m)\u001b[0m\u001b[1;33m\u001b[0m\u001b[1;33m\u001b[0m\u001b[0m\n\u001b[0m\u001b[0;32m     51\u001b[0m             \u001b[0md_preds\u001b[0m \u001b[1;33m=\u001b[0m \u001b[0mpreds\u001b[0m \u001b[1;33m-\u001b[0m \u001b[0mself\u001b[0m\u001b[1;33m.\u001b[0m\u001b[0my\u001b[0m\u001b[1;33m\u001b[0m\u001b[1;33m\u001b[0m\u001b[0m\n\u001b[0;32m     52\u001b[0m             \u001b[0md_sig\u001b[0m \u001b[1;33m=\u001b[0m \u001b[0mself\u001b[0m\u001b[1;33m.\u001b[0m\u001b[0md_sigmoid\u001b[0m\u001b[1;33m(\u001b[0m\u001b[0mpreds\u001b[0m\u001b[1;33m)\u001b[0m\u001b[1;33m\u001b[0m\u001b[1;33m\u001b[0m\u001b[0m\n",
      "\u001b[1;32m<ipython-input-48-2c6f0fe22d62>\u001b[0m in \u001b[0;36mpredict\u001b[1;34m(self, X)\u001b[0m\n\u001b[0;32m     32\u001b[0m         \u001b[0mA\u001b[0m \u001b[1;33m=\u001b[0m \u001b[0mX\u001b[0m\u001b[1;33m.\u001b[0m\u001b[0mcopy\u001b[0m\u001b[1;33m(\u001b[0m\u001b[1;33m)\u001b[0m\u001b[1;33m\u001b[0m\u001b[1;33m\u001b[0m\u001b[0m\n\u001b[0;32m     33\u001b[0m         \u001b[1;32mfor\u001b[0m \u001b[0mi\u001b[0m \u001b[1;32min\u001b[0m \u001b[0mrange\u001b[0m\u001b[1;33m(\u001b[0m\u001b[0mlen\u001b[0m\u001b[1;33m(\u001b[0m\u001b[0mself\u001b[0m\u001b[1;33m.\u001b[0m\u001b[0mW\u001b[0m\u001b[1;33m)\u001b[0m\u001b[1;33m)\u001b[0m\u001b[1;33m:\u001b[0m\u001b[1;33m\u001b[0m\u001b[1;33m\u001b[0m\u001b[0m\n\u001b[1;32m---> 34\u001b[1;33m             \u001b[0mZ\u001b[0m \u001b[1;33m=\u001b[0m \u001b[0mA\u001b[0m\u001b[1;33m.\u001b[0m\u001b[0mdot\u001b[0m\u001b[1;33m(\u001b[0m\u001b[0mself\u001b[0m\u001b[1;33m.\u001b[0m\u001b[0mW\u001b[0m\u001b[1;33m[\u001b[0m\u001b[0mi\u001b[0m\u001b[1;33m]\u001b[0m\u001b[1;33m)\u001b[0m \u001b[1;33m+\u001b[0m \u001b[0mself\u001b[0m\u001b[1;33m.\u001b[0m\u001b[0mb\u001b[0m\u001b[1;33m[\u001b[0m\u001b[0mi\u001b[0m\u001b[1;33m]\u001b[0m\u001b[1;33m\u001b[0m\u001b[1;33m\u001b[0m\u001b[0m\n\u001b[0m\u001b[0;32m     35\u001b[0m             \u001b[0mself\u001b[0m\u001b[1;33m.\u001b[0m\u001b[0mZ\u001b[0m\u001b[1;33m.\u001b[0m\u001b[0mappend\u001b[0m\u001b[1;33m(\u001b[0m\u001b[0mZ\u001b[0m\u001b[1;33m)\u001b[0m\u001b[1;33m\u001b[0m\u001b[1;33m\u001b[0m\u001b[0m\n\u001b[0;32m     36\u001b[0m             \u001b[1;32mif\u001b[0m \u001b[0mi\u001b[0m \u001b[1;33m<\u001b[0m \u001b[0mlen\u001b[0m\u001b[1;33m(\u001b[0m\u001b[0mself\u001b[0m\u001b[1;33m.\u001b[0m\u001b[0mW\u001b[0m\u001b[1;33m)\u001b[0m \u001b[1;33m-\u001b[0m \u001b[1;36m1\u001b[0m\u001b[1;33m:\u001b[0m\u001b[1;33m\u001b[0m\u001b[1;33m\u001b[0m\u001b[0m\n",
      "\u001b[1;31mKeyboardInterrupt\u001b[0m: "
     ]
    }
   ],
   "source": [
    "clf.fit(X_train, y_train)"
   ]
  },
  {
   "cell_type": "code",
   "execution_count": 60,
   "metadata": {},
   "outputs": [
    {
     "data": {
      "text/plain": [
       "0.8036"
      ]
     },
     "execution_count": 60,
     "metadata": {},
     "output_type": "execute_result"
    }
   ],
   "source": [
    "clf.score(X_test, y_test)"
   ]
  },
  {
   "cell_type": "code",
   "execution_count": 52,
   "metadata": {},
   "outputs": [],
   "source": [
    "img = Image.open('daisy.jpg')"
   ]
  },
  {
   "cell_type": "code",
   "execution_count": 54,
   "metadata": {},
   "outputs": [
    {
     "data": {
      "text/plain": [
       "array([[0.00000004, 0.00000675, 0.99266353, 0.78948298, 0.        ,\n",
       "        0.00922483]])"
      ]
     },
     "execution_count": 54,
     "metadata": {},
     "output_type": "execute_result"
    }
   ],
   "source": [
    "clf.predict(normalize(np.append(np.asarray(img.resize((50, 50))).flatten(), np.asarray(img.convert('L').resize((20, 20))).flatten()).reshape(1, -1)))"
   ]
  },
  {
   "cell_type": "code",
   "execution_count": null,
   "metadata": {},
   "outputs": [],
   "source": []
  }
 ],
 "metadata": {
  "kernelspec": {
   "display_name": "Python 3",
   "language": "python",
   "name": "python3"
  },
  "language_info": {
   "codemirror_mode": {
    "name": "ipython",
    "version": 3
   },
   "file_extension": ".py",
   "mimetype": "text/x-python",
   "name": "python",
   "nbconvert_exporter": "python",
   "pygments_lexer": "ipython3",
   "version": "3.8.8"
  }
 },
 "nbformat": 4,
 "nbformat_minor": 4
}
