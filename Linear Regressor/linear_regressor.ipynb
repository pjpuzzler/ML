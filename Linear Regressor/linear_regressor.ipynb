{
 "cells": [
  {
   "cell_type": "code",
<<<<<<< HEAD:Linear Regression/linear_regression.ipynb
   "execution_count": null,
=======
   "execution_count": 1,
>>>>>>> e2a5431d5542c6a48bf37529ca5de6859fb1af3a:Linear Regressor/linear_regressor.ipynb
   "metadata": {},
   "outputs": [
    {
     "ename": "ModuleNotFoundError",
     "evalue": "No module named 'sklearn.utils'",
     "output_type": "error",
     "traceback": [
      "\u001b[1;31m---------------------------------------------------------------------------\u001b[0m",
      "\u001b[1;31mModuleNotFoundError\u001b[0m                       Traceback (most recent call last)",
      "\u001b[1;32m<ipython-input-1-487dea8d17de>\u001b[0m in \u001b[0;36m<module>\u001b[1;34m\u001b[0m\n\u001b[0;32m      2\u001b[0m \u001b[1;32mimport\u001b[0m \u001b[0mpandas\u001b[0m \u001b[1;32mas\u001b[0m \u001b[0mpd\u001b[0m\u001b[1;33m\u001b[0m\u001b[1;33m\u001b[0m\u001b[0m\n\u001b[0;32m      3\u001b[0m \u001b[1;32mimport\u001b[0m \u001b[0mmatplotlib\u001b[0m\u001b[1;33m.\u001b[0m\u001b[0mpyplot\u001b[0m \u001b[1;32mas\u001b[0m \u001b[0mplt\u001b[0m\u001b[1;33m\u001b[0m\u001b[1;33m\u001b[0m\u001b[0m\n\u001b[1;32m----> 4\u001b[1;33m \u001b[1;32mfrom\u001b[0m \u001b[0msklearn\u001b[0m\u001b[1;33m.\u001b[0m\u001b[0mdatasets\u001b[0m \u001b[1;32mimport\u001b[0m \u001b[0mmake_regression\u001b[0m\u001b[1;33m\u001b[0m\u001b[1;33m\u001b[0m\u001b[0m\n\u001b[0m\u001b[0;32m      5\u001b[0m \u001b[1;32mimport\u001b[0m \u001b[0msklearn\u001b[0m\u001b[1;33m.\u001b[0m\u001b[0mlinear_model\u001b[0m\u001b[1;33m\u001b[0m\u001b[1;33m\u001b[0m\u001b[0m\n",
      "\u001b[1;32m~\\AppData\\Local\\Packages\\PythonSoftwareFoundation.Python.3.9_qbz5n2kfra8p0\\LocalCache\\local-packages\\Python39\\site-packages\\sklearn\\__init__.py\u001b[0m in \u001b[0;36m<module>\u001b[1;34m\u001b[0m\n\u001b[0;32m     80\u001b[0m     \u001b[1;32mfrom\u001b[0m \u001b[1;33m.\u001b[0m \u001b[1;32mimport\u001b[0m \u001b[0m_distributor_init\u001b[0m  \u001b[1;31m# noqa: F401\u001b[0m\u001b[1;33m\u001b[0m\u001b[1;33m\u001b[0m\u001b[0m\n\u001b[0;32m     81\u001b[0m     \u001b[1;32mfrom\u001b[0m \u001b[1;33m.\u001b[0m \u001b[1;32mimport\u001b[0m \u001b[0m__check_build\u001b[0m  \u001b[1;31m# noqa: F401\u001b[0m\u001b[1;33m\u001b[0m\u001b[1;33m\u001b[0m\u001b[0m\n\u001b[1;32m---> 82\u001b[1;33m     \u001b[1;32mfrom\u001b[0m \u001b[1;33m.\u001b[0m\u001b[0mbase\u001b[0m \u001b[1;32mimport\u001b[0m \u001b[0mclone\u001b[0m\u001b[1;33m\u001b[0m\u001b[1;33m\u001b[0m\u001b[0m\n\u001b[0m\u001b[0;32m     83\u001b[0m     \u001b[1;32mfrom\u001b[0m \u001b[1;33m.\u001b[0m\u001b[0mutils\u001b[0m\u001b[1;33m.\u001b[0m\u001b[0m_show_versions\u001b[0m \u001b[1;32mimport\u001b[0m \u001b[0mshow_versions\u001b[0m\u001b[1;33m\u001b[0m\u001b[1;33m\u001b[0m\u001b[0m\n\u001b[0;32m     84\u001b[0m \u001b[1;33m\u001b[0m\u001b[0m\n",
      "\u001b[1;32m~\\AppData\\Local\\Packages\\PythonSoftwareFoundation.Python.3.9_qbz5n2kfra8p0\\LocalCache\\local-packages\\Python39\\site-packages\\sklearn\\base.py\u001b[0m in \u001b[0;36m<module>\u001b[1;34m\u001b[0m\n\u001b[0;32m     15\u001b[0m \u001b[1;32mfrom\u001b[0m \u001b[1;33m.\u001b[0m \u001b[1;32mimport\u001b[0m \u001b[0m__version__\u001b[0m\u001b[1;33m\u001b[0m\u001b[1;33m\u001b[0m\u001b[0m\n\u001b[0;32m     16\u001b[0m \u001b[1;32mfrom\u001b[0m \u001b[1;33m.\u001b[0m\u001b[0m_config\u001b[0m \u001b[1;32mimport\u001b[0m \u001b[0mget_config\u001b[0m\u001b[1;33m\u001b[0m\u001b[1;33m\u001b[0m\u001b[0m\n\u001b[1;32m---> 17\u001b[1;33m \u001b[1;32mfrom\u001b[0m \u001b[1;33m.\u001b[0m\u001b[0mutils\u001b[0m \u001b[1;32mimport\u001b[0m \u001b[0m_IS_32BIT\u001b[0m\u001b[1;33m\u001b[0m\u001b[1;33m\u001b[0m\u001b[0m\n\u001b[0m\u001b[0;32m     18\u001b[0m from .utils._tags import (\n\u001b[0;32m     19\u001b[0m     \u001b[0m_DEFAULT_TAGS\u001b[0m\u001b[1;33m,\u001b[0m\u001b[1;33m\u001b[0m\u001b[1;33m\u001b[0m\u001b[0m\n",
      "\u001b[1;31mModuleNotFoundError\u001b[0m: No module named 'sklearn.utils'"
     ]
    }
   ],
   "source": [
    "import numpy as np\n",
    "import pandas as pd\n",
    "import matplotlib.pyplot as plt\n",
    "from sklearn.datasets import make_regression\n",
    "import sklearn.linear_model"
   ]
  },
  {
   "cell_type": "code",
   "execution_count": null,
   "metadata": {},
   "outputs": [],
   "source": [
    "def normalize(X):\n",
    "    X_normalized = X / np.linalg.norm(X, axis=1, keepdims=True)\n",
    "    return X_normalized"
   ]
  },
  {
   "cell_type": "code",
   "execution_count": null,
   "metadata": {},
   "outputs": [],
   "source": [
    "X = normalize(X)"
   ]
  },
  {
   "cell_type": "code",
<<<<<<< HEAD:Linear Regression/linear_regression.ipynb
   "execution_count": null,
=======
   "execution_count": 2,
>>>>>>> e2a5431d5542c6a48bf37529ca5de6859fb1af3a:Linear Regressor/linear_regressor.ipynb
   "metadata": {},
   "outputs": [],
   "source": [
    "def train_test_split(X, y, test_size=0.25, shuffle=True):\n",
    "    X, y = np.asarray(X), np.asarray(y)\n",
    "    n = len(X)\n",
    "    if shuffle:\n",
    "        perm = np.random.permutation(n)\n",
    "        X, y = X[perm], y[perm]\n",
    "    test_rows = round(test_size * n)\n",
    "    X_train, X_test, y_train, y_test = X[test_rows:], X[:test_rows], y[test_rows:], y[:test_rows]\n",
    "    return X_train, X_test, y_train, y_test"
   ]
  },
  {
   "cell_type": "code",
   "execution_count": null,
   "metadata": {},
   "outputs": [],
   "source": [
    "X_train, X_test, y_train, y_test = train_test_split(X, y)"
   ]
  },
  {
   "cell_type": "code",
<<<<<<< HEAD:Linear Regression/linear_regression.ipynb
   "execution_count": null,
=======
   "execution_count": 4,
>>>>>>> e2a5431d5542c6a48bf37529ca5de6859fb1af3a:Linear Regressor/linear_regressor.ipynb
   "metadata": {},
   "outputs": [],
   "source": [
    "class LinearRegressor:\n",
    "    def __init__(self, l=0.001, lr=0.1, tol=0.0001, verbose=True):\n",
    "        self._l = l\n",
    "        self._lr = lr\n",
    "        self._tol = tol\n",
    "        self._verbose = verbose\n",
    "    \n",
    "    def __preprocess(self, X, y):\n",
    "        X, y = np.asarray(X), np.asarray(y)\n",
    "        if X.ndim == 1:\n",
    "            X = X.reshape(X.size, 1)\n",
    "        X = np.hstack((np.ones((len(X), 1)), X))\n",
    "        return X, y\n",
    "    \n",
    "    def __predict(self):\n",
    "        pred = np.dot(self._X, self._w)\n",
    "        return pred\n",
    "    \n",
    "    def __score(self):\n",
    "        preds = self.__predict()\n",
    "        SS_r = ((self._y - preds) ** 2).sum()\n",
    "        SS_t = ((self._y - self._y.mean()) ** 2).sum()\n",
    "        r_squared = 1 - SS_r / SS_t\n",
    "        return r_squared\n",
    "    \n",
    "    def __cost(self):\n",
    "        preds = self.__predict()\n",
    "        sq_err = (preds - self._y) ** 2\n",
    "        sq_reg = self._w[1:] ** 2\n",
    "        cost = 1 / (2 * self._n) * (sq_err.sum() + self._l * sq_reg.sum())\n",
    "        return cost\n",
    "    \n",
    "    def __iterate(self):\n",
    "        preds = self.__predict()\n",
    "        err = self._y - preds\n",
    "        gradient = np.dot(-self._X.T, err) / self._n * self._lr\n",
    "        self._w -= gradient\n",
    "    \n",
    "    def get_ls_y(self, ls_x):\n",
    "        ls_y = [self._w[1] * x + self._w[0] for x in ls_x]\n",
    "        return ls_y\n",
    "    \n",
    "    def fit(self, X, y):\n",
    "        X, y = self.__preprocess(X, y)\n",
    "        self._X = X\n",
    "        self._y = y\n",
    "        self._n = len(self._X)\n",
    "        self._w = np.zeros((self._X.shape[1], self._y.shape[1]) if self._y.ndim == 2 else self._X.shape[1])\n",
    "        \n",
    "        i = 0\n",
    "        prev_cost = None\n",
    "        cost = None\n",
    "        while (cost == None or cost > 0) and (prev_cost == None or prev_cost - cost > self._tol):\n",
    "            self.__iterate()\n",
    "            prev_cost = cost\n",
    "            cost = self.__cost()\n",
    "            if self._verbose:\n",
    "                score = self.__score()\n",
    "                print(f'Iteration: {i}     Cost: {cost}     Score: {score}')\n",
    "            i += 1\n",
    "    \n",
    "    def predict(self, X, pad=True):\n",
    "        X = np.asarray(X)\n",
    "        if pad:\n",
    "            X = np.hstack((np.ones((len(X), 1)), X))\n",
    "        pred = np.dot(X, self._w)\n",
    "        return pred\n",
    "    \n",
    "    def score(self, X, y):\n",
    "        X, y = self.__preprocess(X, y)\n",
    "        n = len(X)\n",
    "        preds = self.predict(X, False)\n",
    "        SS_r = ((y - preds) ** 2).sum()\n",
    "        SS_t = ((y - y.mean()) ** 2).sum()\n",
    "        r_squared = 1 - SS_r / SS_t\n",
    "        return r_squared"
   ]
  },
  {
   "cell_type": "code",
   "execution_count": null,
   "metadata": {},
   "outputs": [],
   "source": [
    "clf = LinearRegressor(lr=0.0001)"
   ]
  },
  {
   "cell_type": "code",
   "execution_count": null,
   "metadata": {
    "scrolled": true
   },
   "outputs": [],
   "source": [
    "clf.fit(X_train, y_train)"
   ]
  },
  {
   "cell_type": "code",
   "execution_count": null,
   "metadata": {
    "scrolled": true
   },
   "outputs": [],
   "source": [
    "clf.score(X_test, y_test)"
   ]
  },
  {
   "cell_type": "code",
   "execution_count": null,
   "metadata": {},
   "outputs": [],
   "source": [
    "clf.predict(X_test[5].reshape(1, -1))"
   ]
  },
  {
   "cell_type": "code",
   "execution_count": null,
   "metadata": {},
   "outputs": [],
   "source": [
    "y_test[5]"
   ]
  },
  {
   "cell_type": "code",
   "execution_count": null,
   "metadata": {},
   "outputs": [],
   "source": []
  }
 ],
 "metadata": {
  "kernelspec": {
   "display_name": "Python 3",
   "language": "python",
   "name": "python3"
  },
  "language_info": {
   "codemirror_mode": {
    "name": "ipython",
    "version": 3
   },
   "file_extension": ".py",
   "mimetype": "text/x-python",
   "name": "python",
   "nbconvert_exporter": "python",
   "pygments_lexer": "ipython3",
   "version": "3.9.2"
  }
 },
 "nbformat": 4,
 "nbformat_minor": 4
}
